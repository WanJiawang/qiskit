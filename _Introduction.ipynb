{
 "cells": [
  {
   "cell_type": "code",
   "execution_count": 1,
   "id": "063b4988-bd72-45e8-abcd-b208075990a5",
   "metadata": {},
   "outputs": [],
   "source": [
    "from qiskit_algorithms.optimizers import SLSQP\n",
    "from qiskit.circuit.library import TwoLocal\n",
    "\n",
    "num_qubits = 2\n",
    "ansatz = TwoLocal(num_qubits, \"ry\", \"cz\")\n",
    "optimizer = SLSQP(maxiter=1000)"
   ]
  },
  {
   "cell_type": "code",
   "execution_count": 2,
   "id": "06eb85af-9f44-4d9f-8ae9-d908e1180da3",
   "metadata": {},
   "outputs": [
    {
     "data": {
      "image/png": "[encoded data removed]",
      "text/plain": [
       "<Figure size 705.35x200.667 with 1 Axes>"
      ]
     },
     "execution_count": 2,
     "metadata": {},
     "output_type": "execute_result"
    }
   ],
   "source": [
    "ansatz.decompose().draw(\"mpl\", style=\"iqx\")"
   ]
  },
  {
   "cell_type": "code",
   "execution_count": 3,
   "id": "9d82c14e-b55a-42b5-b3a8-5a2e34b7697d",
   "metadata": {},
   "outputs": [],
   "source": [
    "from qiskit.primitives import Estimator\n",
    "\n",
    "estimator = Estimator()"
   ]
  },
  {
   "cell_type": "code",
   "execution_count": 4,
   "id": "d78bbbcd-2dc9-4b79-8991-c8ddda463cda",
   "metadata": {},
   "outputs": [],
   "source": [
    "from qiskit_algorithms import VQE\n",
    "\n",
    "vqe = VQE(estimator, ansatz, optimizer)"
   ]
  },
  {
   "cell_type": "code",
   "execution_count": 5,
   "id": "be668d43-067a-4b4a-818b-ccc01b821524",
   "metadata": {},
   "outputs": [],
   "source": [
    "from qiskit.quantum_info import SparsePauliOp\n",
    "\n",
    "H2_op = SparsePauliOp.from_list([\n",
    "    (\"II\", -1.052373245772859),\n",
    "    (\"IZ\", 0.39793742484318045),\n",
    "    (\"ZI\", -0.39793742484318045),\n",
    "    (\"ZZ\", -0.01128010425623538),\n",
    "    (\"XX\", 0.18093119978423156)\n",
    "])"
   ]
  },
  {
   "cell_type": "code",
   "execution_count": 6,
   "id": "adb95972-caa2-4c6a-9c87-8907eb4f2f32",
   "metadata": {},
   "outputs": [
    {
     "name": "stdout",
     "output_type": "stream",
     "text": [
      "{   'aux_operators_evaluated': None,\n",
      "    'cost_function_evals': 55,\n",
      "    'eigenvalue': -1.8572749246282718,\n",
      "    'optimal_circuit': <qiskit.circuit.library.n_local.two_local.TwoLocal object at 0x000002BB2957B790>,\n",
      "    'optimal_parameters': {   ParameterVectorElement(θ[0]): -4.7841749409842524,\n",
      "                              ParameterVectorElement(θ[1]): -2.3614635298018536,\n",
      "                              ParameterVectorElement(θ[2]): 4.792276289612869,\n",
      "                              ParameterVectorElement(θ[3]): 5.514697230842299,\n",
      "                              ParameterVectorElement(θ[4]): -6.508323000135728,\n",
      "                              ParameterVectorElement(θ[5]): 1.6381764826365548,\n",
      "                              ParameterVectorElement(θ[6]): -5.316282196507563,\n",
      "                              ParameterVectorElement(θ[7]): -0.6705191185181457},\n",
      "    'optimal_point': array([-4.78417494, -2.36146353,  4.79227629,  5.51469723, -6.508323  ,\n",
      "        1.63817648, -5.3162822 , -0.67051912]),\n",
      "    'optimal_value': -1.8572749246282718,\n",
      "    'optimizer_evals': None,\n",
      "    'optimizer_result': <qiskit_algorithms.optimizers.optimizer.OptimizerResult object at 0x000002BB163B5110>,\n",
      "    'optimizer_time': 0.4395925998687744}\n"
     ]
    }
   ],
   "source": [
    "result = vqe.compute_minimum_eigenvalue(H2_op)\n",
    "print(result)"
   ]
  },
  {
   "cell_type": "code",
   "execution_count": 7,
   "id": "eb6766ab-eef9-481c-ac09-e975249d0317",
   "metadata": {},
   "outputs": [
    {
     "name": "stdout",
     "output_type": "stream",
     "text": [
      "{   'aux_operators_evaluated': None,\n",
      "    'cost_function_evals': 200,\n",
      "    'eigenvalue': -1.8574980884779746,\n",
      "    'optimal_circuit': <qiskit.circuit.library.n_local.two_local.TwoLocal object at 0x000002BB3BB7E2D0>,\n",
      "    'optimal_parameters': {   ParameterVectorElement(θ[0]): -2.6905526620442064,\n",
      "                              ParameterVectorElement(θ[1]): 3.91297532139232,\n",
      "                              ParameterVectorElement(θ[2]): -3.307311066013706,\n",
      "                              ParameterVectorElement(θ[3]): 1.1801144164852468,\n",
      "                              ParameterVectorElement(θ[4]): -6.509627973860405,\n",
      "                              ParameterVectorElement(θ[5]): -2.650837392303864,\n",
      "                              ParameterVectorElement(θ[6]): -3.5605356349889306,\n",
      "                              ParameterVectorElement(θ[7]): -0.8612818711876334},\n",
      "    'optimal_point': array([-2.69055266,  3.91297532, -3.30731107,  1.18011442, -6.50962797,\n",
      "       -2.65083739, -3.56053563, -0.86128187]),\n",
      "    'optimal_value': -1.8574980884779746,\n",
      "    'optimizer_evals': None,\n",
      "    'optimizer_result': <qiskit_algorithms.optimizers.optimizer.OptimizerResult object at 0x000002BB3AA09890>,\n",
      "    'optimizer_time': 1.3570928573608398}\n"
     ]
    }
   ],
   "source": [
    "from qiskit_algorithms.optimizers import SPSA\n",
    "\n",
    "estimator = Estimator(options={\"shots\": 1000})\n",
    "\n",
    "vqe.estimator = estimator\n",
    "vqe.optimizer = SPSA(maxiter=100)\n",
    "result = vqe.compute_minimum_eigenvalue(operator=H2_op)\n",
    "print(result)"
   ]
  },
  {
   "cell_type": "code",
   "execution_count": 8,
   "id": "113cbeb5-cbff-4201-a7c0-35c9c023db21",
   "metadata": {},
   "outputs": [
    {
     "data": {
      "text/html": [
       "<h3>Version Information</h3><table><tr><th>Software</th><th>Version</th></tr><tr><td><code>qiskit</code></td><td>0.44.1</td></tr><tr><td><code>qiskit-terra</code></td><td>0.25.1</td></tr><tr><th colspan='2'>System information</th></tr><tr><td>Python version</td><td>3.11.4</td></tr><tr><td>Python compiler</td><td>MSC v.1916 64 bit (AMD64)</td></tr><tr><td>Python build</td><td>main, Jul  5 2023 13:47:18</td></tr><tr><td>OS</td><td>Windows</td></tr><tr><td>CPUs</td><td>4</td></tr><tr><td>Memory (Gb)</td><td>31.925708770751953</td></tr><tr><td colspan='2'>Fri Sep 01 19:34:47 2023 中国标准时间</td></tr></table>"
      ],
      "text/plain": [
       "<IPython.core.display.HTML object>"
      ]
     },
     "metadata": {},
     "output_type": "display_data"
    },
    {
     "data": {
      "text/html": [
       "<div style='width: 100%; background-color:#d5d9e0;padding-left: 10px; padding-bottom: 10px; padding-right: 10px; padding-top: 5px'><h3>This code is a part of Qiskit</h3><p>&copy; Copyright IBM 2017, 2023.</p><p>This code is licensed under the Apache License, Version 2.0. You may<br>obtain a copy of this license in the LICENSE.txt file in the root directory<br> of this source tree or at http://www.apache.org/licenses/LICENSE-2.0.<p>Any modifications or derivative works of this code must retain this<br>copyright notice, and modified files need to carry a notice indicating<br>that they have been altered from the originals.</p></div>"
      ],
      "text/plain": [
       "<IPython.core.display.HTML object>"
      ]
     },
     "metadata": {},
     "output_type": "display_data"
    }
   ],
   "source": [
    "import qiskit.tools.jupyter\n",
    "%qiskit_version_table\n",
    "%qiskit_copyright"
   ]
  },
  {
   "cell_type": "code",
   "execution_count": null,
   "id": "c2dabf53-08cb-4d54-a4b1-e854a631b6c3",
   "metadata": {},
   "outputs": [],
   "source": []
  }
 ],
 "metadata": {
  "kernelspec": {
   "display_name": "Python 3 (ipykernel)",
   "language": "python",
   "name": "python3"
  },
  "language_info": {
   "codemirror_mode": {
    "name": "ipython",
    "version": 3
   },
   "file_extension": ".py",
   "mimetype": "text/x-python",
   "name": "python",
   "nbconvert_exporter": "python",
   "pygments_lexer": "ipython3",
   "version": "3.11.4"
  }
 },
 "nbformat": 4,
 "nbformat_minor": 5
}
